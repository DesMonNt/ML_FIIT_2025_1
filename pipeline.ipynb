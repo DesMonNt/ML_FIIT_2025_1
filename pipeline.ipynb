{
 "cells": [
  {
   "cell_type": "code",
   "id": "initial_id",
   "metadata": {
    "collapsed": true,
    "ExecuteTime": {
     "end_time": "2025-03-30T10:41:23.785723Z",
     "start_time": "2025-03-30T10:41:23.760541Z"
    }
   },
   "source": [
    "import pandas as pd\n",
    "import numpy as np\n",
    "import matplotlib.pyplot as plt\n",
    "import seaborn as sns\n",
    "import joblib\n",
    "\n",
    "RANDOM_STATE = 42\n",
    "DEBUG = True\n",
    "DEMONSTRATION = True\n",
    "\n",
    "np.random.seed(RANDOM_STATE)"
   ],
   "outputs": [],
   "execution_count": 1
  },
  {
   "metadata": {
    "ExecuteTime": {
     "end_time": "2025-03-30T10:41:23.890723Z",
     "start_time": "2025-03-30T10:41:23.794729Z"
    }
   },
   "cell_type": "code",
   "source": [
    "X_train = pd.read_csv('X_train.csv', header=None)\n",
    "X_train.columns = [f'f_{i}' for i in range(X_train.shape[1])]\n",
    "\n",
    "y_train = pd.read_csv('y_train.csv', header=None).values.ravel()\n",
    "\n",
    "X_test = pd.read_csv('X_test.csv', header=None)\n",
    "X_test.columns = [f'f_{i}' for i in range(X_test.shape[1])]"
   ],
   "id": "7372da9fbfe9a133",
   "outputs": [],
   "execution_count": 2
  },
  {
   "metadata": {
    "ExecuteTime": {
     "end_time": "2025-03-30T10:41:24.014079Z",
     "start_time": "2025-03-30T10:41:24.006403Z"
    }
   },
   "cell_type": "code",
   "source": [
    "X_train.drop(columns=[f'f_{i}' for i in range(8)], inplace=True)\n",
    "X_test.drop(columns=[f'f_{i}' for i in range(8)], inplace=True)\n",
    "\n",
    "X_train = pd.get_dummies(X_train, columns=['f_13'], prefix='f_13')\n",
    "X_test = pd.get_dummies(X_test, columns=['f_13'], prefix='f_13')"
   ],
   "id": "84eba211f6809495",
   "outputs": [],
   "execution_count": 3
  },
  {
   "metadata": {
    "ExecuteTime": {
     "end_time": "2025-03-30T10:41:24.026002Z",
     "start_time": "2025-03-30T10:41:24.022456Z"
    }
   },
   "cell_type": "code",
   "source": [
    "mask_0 = X_train['f_12'] == 0\n",
    "mask_1 = X_train['f_12'] == 1\n",
    "\n",
    "X_train.drop(columns='f_12', inplace=True)"
   ],
   "id": "2646229fc67e040a",
   "outputs": [],
   "execution_count": 4
  },
  {
   "metadata": {
    "ExecuteTime": {
     "end_time": "2025-03-30T10:41:24.127362Z",
     "start_time": "2025-03-30T10:41:24.036135Z"
    }
   },
   "cell_type": "code",
   "source": [
    "from sklearn.model_selection import RandomizedSearchCV\n",
    "from scipy.stats import randint, uniform\n",
    "\n",
    "param_dist = {\n",
    "    'iterations': randint(300, 1500),\n",
    "    'learning_rate': uniform(0.01, 0.3),\n",
    "    'depth': randint(4, 12),\n",
    "    'l2_leaf_reg': uniform(1, 15),\n",
    "    'bagging_temperature': uniform(0, 1),\n",
    "    'border_count': randint(32, 255),\n",
    "    'random_strength': uniform(1, 10),\n",
    "    'leaf_estimation_iterations': randint(1, 10)\n",
    "}"
   ],
   "id": "b5b1ea42b6ea3fe4",
   "outputs": [],
   "execution_count": 5
  },
  {
   "metadata": {
    "ExecuteTime": {
     "end_time": "2025-03-30T10:41:24.148949Z",
     "start_time": "2025-03-30T10:41:24.135174Z"
    }
   },
   "cell_type": "code",
   "source": [
    "from catboost import CatBoostRegressor\n",
    "\n",
    "def run_random_search(X, y, param_dist, random_state, n_iter=100):\n",
    "    search = RandomizedSearchCV(\n",
    "        CatBoostRegressor(verbose=0, random_state=random_state, early_stopping_rounds=20),\n",
    "        param_distributions=param_dist,\n",
    "        n_iter=n_iter,\n",
    "        cv=5,\n",
    "        scoring='neg_mean_squared_error',\n",
    "        n_jobs=-1,\n",
    "        random_state=random_state\n",
    "    )\n",
    "    search.fit(X, y)\n",
    "    \n",
    "    return search.best_estimator_"
   ],
   "id": "650eb66d971eee24",
   "outputs": [],
   "execution_count": 6
  },
  {
   "metadata": {
    "ExecuteTime": {
     "end_time": "2025-03-30T10:41:24.162770Z",
     "start_time": "2025-03-30T10:41:24.156868Z"
    }
   },
   "cell_type": "code",
   "source": [
    "if DEMONSTRATION:\n",
    "    model_0 = joblib.load('model_0.pkl')\n",
    "    model_1 = joblib.load('model_1.pkl')\n",
    "else:\n",
    "    model_0 = run_random_search(X_train[mask_0], y_train[mask_0], param_dist, RANDOM_STATE)\n",
    "    model_1 = run_random_search(X_train[mask_1], y_train[mask_1], param_dist, RANDOM_STATE)\n",
    "    \n",
    "    model_0.fit(X_train[mask_0], y_train[mask_0])\n",
    "    model_1.fit(X_train[mask_1], y_train[mask_1])\n",
    "    \n",
    "    joblib.dump(model_0, f\"model_0.pkl\")\n",
    "    joblib.dump(model_1, f\"model_1.pkl\")"
   ],
   "id": "da4f91c50784f560",
   "outputs": [],
   "execution_count": 7
  },
  {
   "metadata": {
    "ExecuteTime": {
     "end_time": "2025-03-30T10:41:34.073914Z",
     "start_time": "2025-03-30T10:41:24.171373Z"
    }
   },
   "cell_type": "code",
   "source": [
    "from sklearn.model_selection import cross_val_score\n",
    "\n",
    "if DEBUG:\n",
    "    scores_0 = -cross_val_score(model_0, X_train[mask_0], y_train[mask_0], cv=5, scoring='neg_mean_squared_error', n_jobs=-1)\n",
    "    scores_1 = -cross_val_score(model_1, X_train[mask_1], y_train[mask_1], cv=5, scoring='neg_mean_squared_error', n_jobs=-1)\n",
    "    \n",
    "    print(f\"MSE по фолдам: {scores_0}\")\n",
    "    print(f\"Отклонение: {np.std(scores_0)}\")\n",
    "    print(f\"Средний MSE: {np.mean(scores_0)}\")\n",
    "\n",
    "    print()\n",
    "\n",
    "    print(f\"MSE по фолдам: {scores_1}\")\n",
    "    print(f\"Отклонение: {np.std(scores_1)}\")\n",
    "    print(f\"Средний MSE: {np.mean(scores_1)}\")\n",
    "\n",
    "    print()\n",
    "\n",
    "    len_0 = len(X_train[mask_0])\n",
    "    len_1 = len(X_train[mask_1])\n",
    "\n",
    "    print(f\"Взвешенный MSE: {(np.mean(scores_0) * len_0 + np.mean(scores_1) * len_1) / (len_0 + len_1)}\")"
   ],
   "id": "4545c6530c74fb2f",
   "outputs": [
    {
     "name": "stdout",
     "output_type": "stream",
     "text": [
      "MSE по фолдам: [0.02704528 0.02255584 0.02293553 0.02593817 0.02404676]\n",
      "Отклонение: 0.0017308623008721854\n",
      "Средний MSE: 0.024504317149676484\n",
      "\n",
      "MSE по фолдам: [0.02325347 0.02279134 0.02337219 0.02482727 0.02302923]\n",
      "Отклонение: 0.0007144677758538352\n",
      "Средний MSE: 0.02345469800651987\n",
      "\n",
      "Взвешенный MSE: 0.02398003238766976\n"
     ]
    }
   ],
   "execution_count": 8
  },
  {
   "metadata": {
    "ExecuteTime": {
     "end_time": "2025-03-30T10:41:34.290180Z",
     "start_time": "2025-03-30T10:41:34.135604Z"
    }
   },
   "cell_type": "code",
   "source": [
    "features = list(X_train.columns)\n",
    "\n",
    "coefs_0 = model_0.feature_importances_\n",
    "coefs_1 = model_1.feature_importances_\n",
    "\n",
    "plt.figure(figsize=(16, 6))\n",
    "\n",
    "plt.subplot(1, 2, 1)\n",
    "sns.barplot(x=coefs_0, y=features, orient='h')\n",
    "plt.title(\"model_0\")\n",
    "plt.xlabel(\"Важность признака\")\n",
    "plt.ylabel(\"Признаки\")\n",
    "plt.grid(True)\n",
    "\n",
    "plt.subplot(1, 2, 2)\n",
    "sns.barplot(x=coefs_1, y=features, orient='h')\n",
    "plt.title(\"model_1\")\n",
    "plt.xlabel(\"Важность признака\")\n",
    "plt.ylabel(\"Признаки\")\n",
    "plt.grid(True)\n",
    "\n",
    "plt.tight_layout()\n",
    "plt.show()"
   ],
   "id": "cabe5bd928520615",
   "outputs": [
    {
     "data": {
      "text/plain": [
       "<Figure size 1600x600 with 2 Axes>"
      ],
      "image/png": "[encoded data removed]"
     },
     "metadata": {},
     "output_type": "display_data"
    }
   ],
   "execution_count": 9
  },
  {
   "metadata": {
    "ExecuteTime": {
     "end_time": "2025-03-30T10:41:34.303346Z",
     "start_time": "2025-03-30T10:41:34.299668Z"
    }
   },
   "cell_type": "code",
   "source": [
    "test_mask_0 = X_test['f_12'] == 0\n",
    "test_mask_1 = X_test['f_12'] == 1\n",
    "\n",
    "X_test.drop(columns='f_12', inplace=True)"
   ],
   "id": "ad02398954eb3d89",
   "outputs": [],
   "execution_count": 10
  },
  {
   "metadata": {
    "ExecuteTime": {
     "end_time": "2025-03-30T10:41:34.320709Z",
     "start_time": "2025-03-30T10:41:34.312263Z"
    }
   },
   "cell_type": "code",
   "source": [
    "y_pred_0 = model_0.predict(X_test[test_mask_0])\n",
    "y_pred_1 = model_1.predict(X_test[test_mask_1])\n",
    "\n",
    "y_pred = np.empty_like(np.zeros(len(X_test)), dtype=float)\n",
    "y_pred[test_mask_0] = y_pred_0\n",
    "y_pred[test_mask_1] = y_pred_1"
   ],
   "id": "525da0663fded858",
   "outputs": [],
   "execution_count": 11
  },
  {
   "metadata": {
    "ExecuteTime": {
     "end_time": "2025-03-30T10:41:34.344170Z",
     "start_time": "2025-03-30T10:41:34.330619Z"
    }
   },
   "cell_type": "code",
   "source": [
    "submission = pd.DataFrame(y_pred, columns=[\"y\"])\n",
    "submission[\"ID\"] = list(range(len(y_pred)))\n",
    "submission.to_csv(\"submission.csv\", sep=\",\", index=False)"
   ],
   "id": "a4373d86d75d666d",
   "outputs": [],
   "execution_count": 12
  }
 ],
 "metadata": {
  "kernelspec": {
   "display_name": "Python 3",
   "language": "python",
   "name": "python3"
  },
  "language_info": {
   "codemirror_mode": {
    "name": "ipython",
    "version": 2
   },
   "file_extension": ".py",
   "mimetype": "text/x-python",
   "name": "python",
   "nbconvert_exporter": "python",
   "pygments_lexer": "ipython2",
   "version": "2.7.6"
  }
 },
 "nbformat": 4,
 "nbformat_minor": 5
}
